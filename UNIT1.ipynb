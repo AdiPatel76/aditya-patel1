{
 "cells": [
  {
   "cell_type": "markdown",
   "id": "65020b89",
   "metadata": {},
   "source": [
    "# UNIT 1 Python basics \n",
    "  \n",
    "  Python fundamental variables\n",
    "  \n",
    "  python coding \n",
    "  "
   ]
  },
  {
   "cell_type": "code",
   "execution_count": 1,
   "id": "258b10e1",
   "metadata": {},
   "outputs": [
    {
     "name": "stdout",
     "output_type": "stream",
     "text": [
      "hello satish\n"
     ]
    }
   ],
   "source": [
    "print(\"hello satish\")"
   ]
  },
  {
   "cell_type": "code",
   "execution_count": 4,
   "id": "98ad28c7",
   "metadata": {},
   "outputs": [
    {
     "data": {
      "text/plain": [
       "133"
      ]
     },
     "execution_count": 4,
     "metadata": {},
     "output_type": "execute_result"
    }
   ],
   "source": [
    "var1 = \"python\"\n",
    "a = 34\n",
    "b = 99\n",
    "var1\n",
    "a\n",
    "b\n",
    "\n",
    "sum = a+b\n",
    "sum"
   ]
  },
  {
   "cell_type": "code",
   "execution_count": 11,
   "id": "ce6f490d",
   "metadata": {},
   "outputs": [
    {
     "data": {
      "text/plain": [
       "70"
      ]
     },
     "execution_count": 11,
     "metadata": {},
     "output_type": "execute_result"
    }
   ],
   "source": [
    "var1 = 75\n",
    "var2 = 5\n",
    "var3 = var1 + var2\n",
    "var3\n",
    "\n",
    "var4 = var1 - var2\n",
    "var4"
   ]
  },
  {
   "cell_type": "code",
   "execution_count": 12,
   "id": "2cfd20b9",
   "metadata": {},
   "outputs": [
    {
     "data": {
      "text/plain": [
       "70"
      ]
     },
     "execution_count": 12,
     "metadata": {},
     "output_type": "execute_result"
    }
   ],
   "source": [
    "var4 = var1 - var2\n",
    "var4"
   ]
  },
  {
   "cell_type": "code",
   "execution_count": 13,
   "id": "69558d1a",
   "metadata": {},
   "outputs": [
    {
     "data": {
      "text/plain": [
       "375"
      ]
     },
     "execution_count": 13,
     "metadata": {},
     "output_type": "execute_result"
    }
   ],
   "source": [
    "var5 = var1 * var2\n",
    "var5"
   ]
  },
  {
   "cell_type": "code",
   "execution_count": 14,
   "id": "a8540c67",
   "metadata": {},
   "outputs": [
    {
     "data": {
      "text/plain": [
       "15.0"
      ]
     },
     "execution_count": 14,
     "metadata": {},
     "output_type": "execute_result"
    }
   ],
   "source": [
    "var6 = var1 / var2\n",
    "var6 "
   ]
  },
  {
   "cell_type": "code",
   "execution_count": 18,
   "id": "8ed9a83d",
   "metadata": {},
   "outputs": [
    {
     "name": "stdout",
     "output_type": "stream",
     "text": [
      "My Name is adi\n",
      "100,1000,adi\n",
      "40,50,ntc\n"
     ]
    }
   ],
   "source": [
    "count = 100\n",
    "km = 1000\n",
    "name = \"adi\"\n",
    "a,b,c = 40,50,\"ntc\"\n",
    "print(\"My Name is adi\")\n",
    "print(count,km,name,sep= ',')\n",
    "print(a,b,c,sep =',')"
   ]
  },
  {
   "cell_type": "code",
   "execution_count": 19,
   "id": "c0b8907e",
   "metadata": {},
   "outputs": [
    {
     "name": "stdout",
     "output_type": "stream",
     "text": [
      "1 1 1\n"
     ]
    }
   ],
   "source": [
    "a=b=c=1\n",
    "a\n",
    "b\n",
    "c\n",
    "print(a,b,c)\n",
    "\n"
   ]
  },
  {
   "cell_type": "code",
   "execution_count": 20,
   "id": "e93ab1f5",
   "metadata": {},
   "outputs": [
    {
     "data": {
      "text/plain": [
       "15"
      ]
     },
     "execution_count": 20,
     "metadata": {},
     "output_type": "execute_result"
    }
   ],
   "source": [
    "x,y,z = 13,14,15\n",
    "z"
   ]
  },
  {
   "cell_type": "code",
   "execution_count": 24,
   "id": "ba617a2d",
   "metadata": {},
   "outputs": [],
   "source": [
    "del z"
   ]
  },
  {
   "cell_type": "code",
   "execution_count": 25,
   "id": "b54eb9b8",
   "metadata": {},
   "outputs": [
    {
     "ename": "NameError",
     "evalue": "name 'z' is not defined",
     "output_type": "error",
     "traceback": [
      "\u001b[1;31m---------------------------------------------------------------------------\u001b[0m",
      "\u001b[1;31mNameError\u001b[0m                                 Traceback (most recent call last)",
      "Input \u001b[1;32mIn [25]\u001b[0m, in \u001b[0;36m<cell line: 1>\u001b[1;34m()\u001b[0m\n\u001b[1;32m----> 1\u001b[0m \u001b[43mz\u001b[49m\n",
      "\u001b[1;31mNameError\u001b[0m: name 'z' is not defined"
     ]
    }
   ],
   "source": [
    "z"
   ]
  },
  {
   "cell_type": "markdown",
   "id": "2a0da87d",
   "metadata": {},
   "source": [
    "# Data type\n",
    "numerical data type\n",
    "int\n",
    "float\n",
    "complex\n",
    "\n",
    "\n",
    "\n",
    "\n"
   ]
  },
  {
   "cell_type": "markdown",
   "id": "2b7e7fbc",
   "metadata": {},
   "source": []
  },
  {
   "cell_type": "code",
   "execution_count": 27,
   "id": "0e6c2cc0",
   "metadata": {},
   "outputs": [
    {
     "name": "stdout",
     "output_type": "stream",
     "text": [
      "<class 'int'>\n",
      "<class 'float'>\n",
      "<class 'complex'>\n",
      "<class 'str'>\n",
      "<class 'bool'>\n"
     ]
    }
   ],
   "source": [
    "a=67\n",
    "b=99.99\n",
    "c=3.14j\n",
    "d= \"ntc\"\n",
    "e= True\n",
    "\n",
    "print(type(a))\n",
    "print(type(b))\n",
    "print(type(c))\n",
    "print(type(d))\n",
    "print(type(e))\n"
   ]
  },
  {
   "cell_type": "code",
   "execution_count": 28,
   "id": "2d54265e",
   "metadata": {},
   "outputs": [
    {
     "name": "stdout",
     "output_type": "stream",
     "text": [
      "enter the value of x: 40\n",
      "enter the value of y: 20\n"
     ]
    },
    {
     "data": {
      "text/plain": [
       "800"
      ]
     },
     "execution_count": 28,
     "metadata": {},
     "output_type": "execute_result"
    }
   ],
   "source": [
    "##how to take input from user\n",
    "#ask the user to enter the value of x and store it in vaeiable\n",
    "x = int(input(\"enter the value of x: \"))\n",
    "#ask the user to enter the value of y and store it in vaeiable\n",
    "y = int(input(\"enter the value of y: \"))\n",
    "\n",
    "#perform any mathematical operation on user input\n",
    "\n",
    "z =x*y\n",
    "\n",
    "#print the answer\n",
    "\n",
    "z"
   ]
  },
  {
   "cell_type": "code",
   "execution_count": 31,
   "id": "c1c50475",
   "metadata": {},
   "outputs": [
    {
     "data": {
      "text/plain": [
       "'i like python '"
      ]
     },
     "execution_count": 31,
     "metadata": {},
     "output_type": "execute_result"
    }
   ],
   "source": [
    "str1 = 'i like python '\n",
    "str1"
   ]
  },
  {
   "cell_type": "markdown",
   "id": "289e6e0b",
   "metadata": {},
   "source": [
    "# # String"
   ]
  },
  {
   "cell_type": "code",
   "execution_count": 32,
   "id": "5c4f1763",
   "metadata": {},
   "outputs": [
    {
     "data": {
      "text/plain": [
       "'number one'"
      ]
     },
     "execution_count": 32,
     "metadata": {},
     "output_type": "execute_result"
    }
   ],
   "source": [
    "str2 = \"number one\"\n",
    "str2"
   ]
  },
  {
   "cell_type": "code",
   "execution_count": 33,
   "id": "14b83d84",
   "metadata": {},
   "outputs": [
    {
     "data": {
      "text/plain": [
       "'i like python number one'"
      ]
     },
     "execution_count": 33,
     "metadata": {},
     "output_type": "execute_result"
    }
   ],
   "source": [
    "str3 = str1 + str2\n",
    "str3\n"
   ]
  },
  {
   "cell_type": "markdown",
   "id": "dc5404b1",
   "metadata": {},
   "source": [
    "# #string indexing and slicing"
   ]
  },
  {
   "cell_type": "code",
   "execution_count": 34,
   "id": "dc5de2e0",
   "metadata": {},
   "outputs": [
    {
     "name": "stdout",
     "output_type": "stream",
     "text": [
      "univercity\n",
      "10\n"
     ]
    }
   ],
   "source": [
    "#string indexing and slicing\n",
    "\n",
    "name = \"univercity\"\n",
    "print(name)\n",
    "print(len(name))"
   ]
  },
  {
   "cell_type": "code",
   "execution_count": 37,
   "id": "0fc39fef",
   "metadata": {},
   "outputs": [
    {
     "data": {
      "text/plain": [
       "'u'"
      ]
     },
     "execution_count": 37,
     "metadata": {},
     "output_type": "execute_result"
    }
   ],
   "source": [
    "name[-10]"
   ]
  },
  {
   "cell_type": "code",
   "execution_count": null,
   "id": "09f4ee57",
   "metadata": {},
   "outputs": [],
   "source": []
  },
  {
   "cell_type": "code",
   "execution_count": 39,
   "id": "e4e00ba3",
   "metadata": {},
   "outputs": [
    {
     "name": "stdout",
     "output_type": "stream",
     "text": [
      "univercity approved by ugc\n",
      "26\n"
     ]
    }
   ],
   "source": [
    "name = \"univercity approved by ugc\"\n",
    "print(name)\n",
    "print(len(name))"
   ]
  },
  {
   "cell_type": "code",
   "execution_count": 40,
   "id": "1f115756",
   "metadata": {},
   "outputs": [
    {
     "data": {
      "text/plain": [
       "' '"
      ]
     },
     "execution_count": 40,
     "metadata": {},
     "output_type": "execute_result"
    }
   ],
   "source": [
    "name[10]"
   ]
  },
  {
   "cell_type": "code",
   "execution_count": 41,
   "id": "1df757b2",
   "metadata": {},
   "outputs": [
    {
     "name": "stdout",
     "output_type": "stream",
     "text": [
      "my name isa aditya patel i m from baroda and i like it python\n",
      "61\n"
     ]
    }
   ],
   "source": [
    "name = \"my name isa aditya patel i m from baroda and i like it python\"\n",
    "print(name)\n",
    "print(len(name))"
   ]
  },
  {
   "cell_type": "code",
   "execution_count": 42,
   "id": "8189fc28",
   "metadata": {},
   "outputs": [
    {
     "data": {
      "text/plain": [
       "'s'"
      ]
     },
     "execution_count": 42,
     "metadata": {},
     "output_type": "execute_result"
    }
   ],
   "source": [
    "name[-52]"
   ]
  },
  {
   "cell_type": "code",
   "execution_count": 43,
   "id": "5d68b55f",
   "metadata": {},
   "outputs": [
    {
     "data": {
      "text/plain": [
       "'n'"
      ]
     },
     "execution_count": 43,
     "metadata": {},
     "output_type": "execute_result"
    }
   ],
   "source": [
    "name[3]"
   ]
  },
  {
   "cell_type": "code",
   "execution_count": 46,
   "id": "f63089ac",
   "metadata": {},
   "outputs": [
    {
     "data": {
      "text/plain": [
       "'i'"
      ]
     },
     "execution_count": 46,
     "metadata": {},
     "output_type": "execute_result"
    }
   ],
   "source": [
    "name[25]"
   ]
  },
  {
   "cell_type": "code",
   "execution_count": 47,
   "id": "a49f61b4",
   "metadata": {},
   "outputs": [
    {
     "data": {
      "text/plain": [
       "' '"
      ]
     },
     "execution_count": 47,
     "metadata": {},
     "output_type": "execute_result"
    }
   ],
   "source": [
    "name[40]"
   ]
  },
  {
   "cell_type": "code",
   "execution_count": 48,
   "id": "23624706",
   "metadata": {},
   "outputs": [
    {
     "data": {
      "text/plain": [
       "'a'"
      ]
     },
     "execution_count": 48,
     "metadata": {},
     "output_type": "execute_result"
    }
   ],
   "source": [
    "name[-41]"
   ]
  },
  {
   "cell_type": "code",
   "execution_count": 49,
   "id": "ba772051",
   "metadata": {},
   "outputs": [
    {
     "data": {
      "text/plain": [
       "'d'"
      ]
     },
     "execution_count": 49,
     "metadata": {},
     "output_type": "execute_result"
    }
   ],
   "source": [
    "name[13]"
   ]
  },
  {
   "cell_type": "code",
   "execution_count": 51,
   "id": "81d15bae",
   "metadata": {},
   "outputs": [
    {
     "data": {
      "text/plain": [
       "'i'"
      ]
     },
     "execution_count": 51,
     "metadata": {},
     "output_type": "execute_result"
    }
   ],
   "source": [
    "name[-13]"
   ]
  },
  {
   "cell_type": "code",
   "execution_count": 52,
   "id": "a5120f69",
   "metadata": {},
   "outputs": [
    {
     "data": {
      "text/plain": [
       "' '"
      ]
     },
     "execution_count": 52,
     "metadata": {},
     "output_type": "execute_result"
    }
   ],
   "source": [
    "name[7]"
   ]
  },
  {
   "cell_type": "code",
   "execution_count": 54,
   "id": "758df076",
   "metadata": {},
   "outputs": [
    {
     "data": {
      "text/plain": [
       "'a'"
      ]
     },
     "execution_count": 54,
     "metadata": {},
     "output_type": "execute_result"
    }
   ],
   "source": [
    "name[-57]"
   ]
  },
  {
   "cell_type": "code",
   "execution_count": 55,
   "id": "c3cd917b",
   "metadata": {},
   "outputs": [
    {
     "data": {
      "text/plain": [
       "' '"
      ]
     },
     "execution_count": 55,
     "metadata": {},
     "output_type": "execute_result"
    }
   ],
   "source": [
    "name[44]"
   ]
  },
  {
   "cell_type": "code",
   "execution_count": 56,
   "id": "c967e376",
   "metadata": {},
   "outputs": [
    {
     "data": {
      "text/plain": [
       "'a'"
      ]
     },
     "execution_count": 56,
     "metadata": {},
     "output_type": "execute_result"
    }
   ],
   "source": [
    "name[-26]"
   ]
  },
  {
   "cell_type": "code",
   "execution_count": 3,
   "id": "98c710d0",
   "metadata": {},
   "outputs": [
    {
     "data": {
      "text/plain": [
       "1472706473008"
      ]
     },
     "execution_count": 3,
     "metadata": {},
     "output_type": "execute_result"
    }
   ],
   "source": [
    "a= 55\n",
    "id(a)\n"
   ]
  },
  {
   "cell_type": "code",
   "execution_count": 1,
   "id": "2f679394",
   "metadata": {},
   "outputs": [
    {
     "data": {
      "text/plain": [
       "2591992998480"
      ]
     },
     "execution_count": 1,
     "metadata": {},
     "output_type": "execute_result"
    }
   ],
   "source": [
    "b = 10\n",
    "id(b)"
   ]
  },
  {
   "cell_type": "code",
   "execution_count": 5,
   "id": "d7468c38",
   "metadata": {},
   "outputs": [
    {
     "data": {
      "text/plain": [
       "1472794270576"
      ]
     },
     "execution_count": 5,
     "metadata": {},
     "output_type": "execute_result"
    }
   ],
   "source": [
    "c= \"satish\"\n",
    "id(c)"
   ]
  },
  {
   "cell_type": "code",
   "execution_count": 6,
   "id": "157322a6",
   "metadata": {},
   "outputs": [
    {
     "data": {
      "text/plain": [
       "1472706472528"
      ]
     },
     "execution_count": 6,
     "metadata": {},
     "output_type": "execute_result"
    }
   ],
   "source": [
    "a=b=c=10\n",
    "id(a)\n",
    "id(b)\n",
    "id(c)\n"
   ]
  },
  {
   "cell_type": "code",
   "execution_count": 7,
   "id": "94fab909",
   "metadata": {},
   "outputs": [
    {
     "data": {
      "text/plain": [
       "1472706663888"
      ]
     },
     "execution_count": 7,
     "metadata": {},
     "output_type": "execute_result"
    }
   ],
   "source": [
    "x= 100\n",
    "id(x)"
   ]
  },
  {
   "cell_type": "code",
   "execution_count": 8,
   "id": "1c0bd2ab",
   "metadata": {},
   "outputs": [
    {
     "data": {
      "text/plain": [
       "1472706663888"
      ]
     },
     "execution_count": 8,
     "metadata": {},
     "output_type": "execute_result"
    }
   ],
   "source": [
    "y = 100\n",
    "id(y)"
   ]
  },
  {
   "cell_type": "code",
   "execution_count": 9,
   "id": "b6cfa31b",
   "metadata": {},
   "outputs": [
    {
     "data": {
      "text/plain": [
       "1472706663888"
      ]
     },
     "execution_count": 9,
     "metadata": {},
     "output_type": "execute_result"
    }
   ],
   "source": [
    "a=100\n",
    "id(a)"
   ]
  },
  {
   "cell_type": "code",
   "execution_count": 10,
   "id": "c1840d16",
   "metadata": {},
   "outputs": [
    {
     "data": {
      "text/plain": [
       "1472706663856"
      ]
     },
     "execution_count": 10,
     "metadata": {},
     "output_type": "execute_result"
    }
   ],
   "source": [
    "a=99\n",
    "id(a)"
   ]
  },
  {
   "cell_type": "code",
   "execution_count": 13,
   "id": "2be40aa6",
   "metadata": {},
   "outputs": [
    {
     "data": {
      "text/plain": [
       "1472822560432"
      ]
     },
     "execution_count": 13,
     "metadata": {},
     "output_type": "execute_result"
    }
   ],
   "source": [
    "a=20\n",
    "id(\"a,x\")"
   ]
  },
  {
   "cell_type": "code",
   "execution_count": 16,
   "id": "fbefbf8d",
   "metadata": {},
   "outputs": [
    {
     "data": {
      "text/plain": [
       "1472823072112"
      ]
     },
     "execution_count": 16,
     "metadata": {},
     "output_type": "execute_result"
    }
   ],
   "source": [
    "a=20\n",
    "b =20\n",
    "c=20\n",
    "id(\"a,b,c\")"
   ]
  },
  {
   "cell_type": "code",
   "execution_count": 17,
   "id": "a7724306",
   "metadata": {},
   "outputs": [
    {
     "data": {
      "text/plain": [
       "'satish'"
      ]
     },
     "execution_count": 17,
     "metadata": {},
     "output_type": "execute_result"
    }
   ],
   "source": [
    "str1 = \"satish\"\n",
    "str1"
   ]
  },
  {
   "cell_type": "code",
   "execution_count": 20,
   "id": "8f79bde5",
   "metadata": {},
   "outputs": [
    {
     "data": {
      "text/plain": [
       "'is a my best friend'"
      ]
     },
     "execution_count": 20,
     "metadata": {},
     "output_type": "execute_result"
    }
   ],
   "source": [
    "#str2='is a my best friend'\n",
    "#str2"
   ]
  },
  {
   "cell_type": "code",
   "execution_count": 22,
   "id": "4d5c982f",
   "metadata": {},
   "outputs": [
    {
     "name": "stdout",
     "output_type": "stream",
     "text": [
      "satishis a my best friend\n"
     ]
    }
   ],
   "source": [
    "#str3 = str1 + str2\n",
    "#print(str3)"
   ]
  },
  {
   "cell_type": "code",
   "execution_count": 28,
   "id": "ad876090",
   "metadata": {},
   "outputs": [
    {
     "ename": "SyntaxError",
     "evalue": "invalid syntax (4119136033.py, line 2)",
     "output_type": "error",
     "traceback": [
      "\u001b[1;36m  Input \u001b[1;32mIn [28]\u001b[1;36m\u001b[0m\n\u001b[1;33m    replace(5:6)\u001b[0m\n\u001b[1;37m             ^\u001b[0m\n\u001b[1;31mSyntaxError\u001b[0m\u001b[1;31m:\u001b[0m invalid syntax\n"
     ]
    }
   ],
   "source": [
    " "
   ]
  },
  {
   "cell_type": "code",
   "execution_count": 3,
   "id": "7d4e790a",
   "metadata": {},
   "outputs": [
    {
     "data": {
      "text/plain": [
       "'h'"
      ]
     },
     "execution_count": 3,
     "metadata": {},
     "output_type": "execute_result"
    }
   ],
   "source": [
    "a= \"neotech\"\n",
    "a[-1]"
   ]
  },
  {
   "cell_type": "code",
   "execution_count": 4,
   "id": "a3321015",
   "metadata": {},
   "outputs": [
    {
     "data": {
      "text/plain": [
       "'neote'"
      ]
     },
     "execution_count": 4,
     "metadata": {},
     "output_type": "execute_result"
    }
   ],
   "source": [
    "a= \"neotech institute of technology\"\n",
    "a[:5]"
   ]
  },
  {
   "cell_type": "code",
   "execution_count": 5,
   "id": "03e2f8c0",
   "metadata": {},
   "outputs": [
    {
     "name": "stdout",
     "output_type": "stream",
     "text": [
      "7\n"
     ]
    }
   ],
   "source": [
    "a= \"neotech\"\n",
    "print(len(a))"
   ]
  },
  {
   "cell_type": "code",
   "execution_count": 6,
   "id": "e26d6f15",
   "metadata": {},
   "outputs": [
    {
     "data": {
      "text/plain": [
       "'neotech'"
      ]
     },
     "execution_count": 6,
     "metadata": {},
     "output_type": "execute_result"
    }
   ],
   "source": [
    "a[0:]"
   ]
  },
  {
   "cell_type": "code",
   "execution_count": 39,
   "id": "da1c8328",
   "metadata": {},
   "outputs": [
    {
     "data": {
      "text/plain": [
       "'n'"
      ]
     },
     "execution_count": 39,
     "metadata": {},
     "output_type": "execute_result"
    }
   ],
   "source": [
    "a[-31]"
   ]
  },
  {
   "cell_type": "code",
   "execution_count": 44,
   "id": "9c66a9b1",
   "metadata": {},
   "outputs": [
    {
     "data": {
      "text/plain": [
       "'olog'"
      ]
     },
     "execution_count": 44,
     "metadata": {},
     "output_type": "execute_result"
    }
   ],
   "source": [
    "a[-5:-1]"
   ]
  },
  {
   "cell_type": "code",
   "execution_count": 47,
   "id": "6805cdb1",
   "metadata": {},
   "outputs": [
    {
     "data": {
      "text/plain": [
       "'y'"
      ]
     },
     "execution_count": 47,
     "metadata": {},
     "output_type": "execute_result"
    }
   ],
   "source": [
    "a= \"neotech institute of technology\"\n",
    "a[30]"
   ]
  },
  {
   "cell_type": "code",
   "execution_count": 48,
   "id": "8b7f3371",
   "metadata": {},
   "outputs": [
    {
     "data": {
      "text/plain": [
       "''"
      ]
     },
     "execution_count": 48,
     "metadata": {},
     "output_type": "execute_result"
    }
   ],
   "source": [
    "a[0:-31]"
   ]
  },
  {
   "cell_type": "code",
   "execution_count": 52,
   "id": "d701b98a",
   "metadata": {},
   "outputs": [
    {
     "data": {
      "text/plain": [
       "'ech institute of techn'"
      ]
     },
     "execution_count": 52,
     "metadata": {},
     "output_type": "execute_result"
    }
   ],
   "source": [
    "a[-27:-5]"
   ]
  },
  {
   "cell_type": "code",
   "execution_count": 56,
   "id": "75160ff1",
   "metadata": {},
   "outputs": [
    {
     "name": "stdout",
     "output_type": "stream",
     "text": [
      "\\\n"
     ]
    }
   ],
   "source": [
    "# escape sequences\n",
    "\n",
    "print(\"\\\\\")"
   ]
  },
  {
   "cell_type": "markdown",
   "id": "f1749ac4",
   "metadata": {},
   "source": [
    "# # positional order"
   ]
  },
  {
   "cell_type": "code",
   "execution_count": 1,
   "id": "c4a8e1ee",
   "metadata": {},
   "outputs": [
    {
     "name": "stdout",
     "output_type": "stream",
     "text": [
      "\n",
      "print string in positional order : \n",
      "('{1} {0} {2}', \"format('Aitya','parel','sfhs')\")\n"
     ]
    }
   ],
   "source": [
    "# positional order\n",
    "string1 = \"{1} {0} {2}\" ,\"format('Aitya','parel','sfhs')\"\n",
    "print(\"\\nprint string in positional order : \")\n",
    "print(string1)"
   ]
  },
  {
   "cell_type": "code",
   "execution_count": null,
   "id": "13ff2196",
   "metadata": {},
   "outputs": [],
   "source": []
  },
  {
   "cell_type": "code",
   "execution_count": 70,
   "id": "10aafcc7",
   "metadata": {},
   "outputs": [
    {
     "name": "stdout",
     "output_type": "stream",
     "text": [
      "[1, 2, 3, 4, 5]\n"
     ]
    }
   ],
   "source": [
    "my_list=[1, 2, 3, 4, 5]\n",
    "print(my_list)"
   ]
  },
  {
   "cell_type": "code",
   "execution_count": 71,
   "id": "fbfe0523",
   "metadata": {},
   "outputs": [
    {
     "data": {
      "text/plain": [
       "list"
      ]
     },
     "execution_count": 71,
     "metadata": {},
     "output_type": "execute_result"
    }
   ],
   "source": [
    "type(my_list)"
   ]
  },
  {
   "cell_type": "code",
   "execution_count": 72,
   "id": "b789c9bf",
   "metadata": {},
   "outputs": [
    {
     "data": {
      "text/plain": [
       "int"
      ]
     },
     "execution_count": 72,
     "metadata": {},
     "output_type": "execute_result"
    }
   ],
   "source": [
    "type(my_list[0])"
   ]
  },
  {
   "cell_type": "code",
   "execution_count": 80,
   "id": "8a549277",
   "metadata": {},
   "outputs": [
    {
     "data": {
      "text/plain": [
       "[1, 2, 3, 4, 5, 'hello', 'aditya']"
      ]
     },
     "execution_count": 80,
     "metadata": {},
     "output_type": "execute_result"
    }
   ],
   "source": [
    "x=[1,2,3,4,5,\"hello\",\"aditya\"]\n",
    "x"
   ]
  },
  {
   "cell_type": "code",
   "execution_count": 81,
   "id": "fdef5926",
   "metadata": {},
   "outputs": [
    {
     "data": {
      "text/plain": [
       "[1, 2, 3, 4, 5, 'hello', 'aditya']"
      ]
     },
     "execution_count": 81,
     "metadata": {},
     "output_type": "execute_result"
    }
   ],
   "source": [
    "x"
   ]
  },
  {
   "cell_type": "code",
   "execution_count": 82,
   "id": "ebead2f8",
   "metadata": {},
   "outputs": [
    {
     "data": {
      "text/plain": [
       "4"
      ]
     },
     "execution_count": 82,
     "metadata": {},
     "output_type": "execute_result"
    }
   ],
   "source": [
    "x[3]"
   ]
  },
  {
   "cell_type": "code",
   "execution_count": 83,
   "id": "fe04ee49",
   "metadata": {},
   "outputs": [
    {
     "data": {
      "text/plain": [
       "'aditya'"
      ]
     },
     "execution_count": 83,
     "metadata": {},
     "output_type": "execute_result"
    }
   ],
   "source": [
    "x[-1]"
   ]
  },
  {
   "cell_type": "code",
   "execution_count": 85,
   "id": "a28c4b6b",
   "metadata": {},
   "outputs": [
    {
     "data": {
      "text/plain": [
       "[2, 3]"
      ]
     },
     "execution_count": 85,
     "metadata": {},
     "output_type": "execute_result"
    }
   ],
   "source": [
    "x[1:3]"
   ]
  },
  {
   "cell_type": "code",
   "execution_count": 87,
   "id": "acad2b34",
   "metadata": {},
   "outputs": [
    {
     "data": {
      "text/plain": [
       "[2, 3, 4, 5, 'hello']"
      ]
     },
     "execution_count": 87,
     "metadata": {},
     "output_type": "execute_result"
    }
   ],
   "source": [
    "x[1:-1]"
   ]
  },
  {
   "cell_type": "code",
   "execution_count": 88,
   "id": "ead603dc",
   "metadata": {},
   "outputs": [
    {
     "data": {
      "text/plain": [
       "[3, 4]"
      ]
     },
     "execution_count": 88,
     "metadata": {},
     "output_type": "execute_result"
    }
   ],
   "source": [
    "x[-5:-3]"
   ]
  },
  {
   "cell_type": "code",
   "execution_count": 89,
   "id": "d007fed0",
   "metadata": {},
   "outputs": [
    {
     "data": {
      "text/plain": [
       "5"
      ]
     },
     "execution_count": 89,
     "metadata": {},
     "output_type": "execute_result"
    }
   ],
   "source": [
    "x[4]"
   ]
  },
  {
   "cell_type": "code",
   "execution_count": 91,
   "id": "d69001ee",
   "metadata": {},
   "outputs": [],
   "source": [
    "x[4] = \"hi\""
   ]
  },
  {
   "cell_type": "code",
   "execution_count": 92,
   "id": "94c8386b",
   "metadata": {},
   "outputs": [
    {
     "data": {
      "text/plain": [
       "'hi'"
      ]
     },
     "execution_count": 92,
     "metadata": {},
     "output_type": "execute_result"
    }
   ],
   "source": [
    "x[4]"
   ]
  },
  {
   "cell_type": "code",
   "execution_count": 93,
   "id": "752957eb",
   "metadata": {},
   "outputs": [
    {
     "data": {
      "text/plain": [
       "[1, 2, 3, 4, 'hi', 'hello', 'aditya']"
      ]
     },
     "execution_count": 93,
     "metadata": {},
     "output_type": "execute_result"
    }
   ],
   "source": [
    "x"
   ]
  },
  {
   "cell_type": "code",
   "execution_count": null,
   "id": "59c235c9",
   "metadata": {},
   "outputs": [],
   "source": [
    "x = input(\"enter first value\")\n",
    "y = input(\"enter second value\")"
   ]
  },
  {
   "cell_type": "code",
   "execution_count": 98,
   "id": "8c4294b2",
   "metadata": {},
   "outputs": [
    {
     "data": {
      "text/plain": [
       "300"
      ]
     },
     "execution_count": 98,
     "metadata": {},
     "output_type": "execute_result"
    }
   ],
   "source": [
    "x= int(x)\n",
    "y= int(y)\n",
    "x*y\n"
   ]
  },
  {
   "cell_type": "code",
   "execution_count": 99,
   "id": "61c1f184",
   "metadata": {},
   "outputs": [
    {
     "name": "stdout",
     "output_type": "stream",
     "text": [
      "enter first value15.5\n",
      "enter second value10\n"
     ]
    }
   ],
   "source": [
    "x = input(\"enter first value\")\n",
    "y = input(\"enter second value\")"
   ]
  },
  {
   "cell_type": "code",
   "execution_count": 101,
   "id": "1d110ac1",
   "metadata": {},
   "outputs": [
    {
     "data": {
      "text/plain": [
       "25.5"
      ]
     },
     "execution_count": 101,
     "metadata": {},
     "output_type": "execute_result"
    }
   ],
   "source": [
    "x= float(x)\n",
    "y= int(y)\n",
    "x+y"
   ]
  },
  {
   "cell_type": "markdown",
   "id": "1837bdd7",
   "metadata": {},
   "source": [
    "# # Tuples of python\n"
   ]
  },
  {
   "cell_type": "code",
   "execution_count": 108,
   "id": "6820bfb8",
   "metadata": {},
   "outputs": [],
   "source": [
    "a=(1,2,3,4,5)\n",
    "b=(6,7,8,9,10)"
   ]
  },
  {
   "cell_type": "code",
   "execution_count": 109,
   "id": "bab0a74b",
   "metadata": {},
   "outputs": [
    {
     "data": {
      "text/plain": [
       "tuple"
      ]
     },
     "execution_count": 109,
     "metadata": {},
     "output_type": "execute_result"
    }
   ],
   "source": [
    "type(b)"
   ]
  },
  {
   "cell_type": "code",
   "execution_count": 110,
   "id": "70018f4d",
   "metadata": {},
   "outputs": [
    {
     "data": {
      "text/plain": [
       "(1, 2, 3, 4, 5, 6, 7, 8, 9, 10)"
      ]
     },
     "execution_count": 110,
     "metadata": {},
     "output_type": "execute_result"
    }
   ],
   "source": [
    "a+b"
   ]
  },
  {
   "cell_type": "code",
   "execution_count": null,
   "id": "351b0857",
   "metadata": {},
   "outputs": [],
   "source": [
    "a*b\n"
   ]
  },
  {
   "cell_type": "code",
   "execution_count": 114,
   "id": "ecb458e3",
   "metadata": {},
   "outputs": [
    {
     "ename": "TypeError",
     "evalue": "unhashable type: 'set'",
     "output_type": "error",
     "traceback": [
      "\u001b[1;31m---------------------------------------------------------------------------\u001b[0m",
      "\u001b[1;31mTypeError\u001b[0m                                 Traceback (most recent call last)",
      "Input \u001b[1;32mIn [114]\u001b[0m, in \u001b[0;36m<cell line: 1>\u001b[1;34m()\u001b[0m\n\u001b[1;32m----> 1\u001b[0m [[{{((\u001b[38;5;241m9\u001b[39m))}}]]\n",
      "\u001b[1;31mTypeError\u001b[0m: unhashable type: 'set'"
     ]
    }
   ],
   "source": []
  },
  {
   "cell_type": "markdown",
   "id": "d59ec01a",
   "metadata": {},
   "source": [
    "# # python dictionary"
   ]
  },
  {
   "cell_type": "code",
   "execution_count": 115,
   "id": "41e48690",
   "metadata": {},
   "outputs": [],
   "source": [
    "empl = {}"
   ]
  },
  {
   "cell_type": "code",
   "execution_count": 116,
   "id": "a74e3db2",
   "metadata": {},
   "outputs": [
    {
     "data": {
      "text/plain": [
       "dict"
      ]
     },
     "execution_count": 116,
     "metadata": {},
     "output_type": "execute_result"
    }
   ],
   "source": [
    "type(empl)"
   ]
  },
  {
   "cell_type": "code",
   "execution_count": 119,
   "id": "c5a51ca2",
   "metadata": {},
   "outputs": [],
   "source": [
    "empl[\"name\"]=\"satish\"\n",
    "empl[\"age\"]=65\n",
    "empl[\"gender\"]=\"m\""
   ]
  },
  {
   "cell_type": "code",
   "execution_count": 120,
   "id": "428368f9",
   "metadata": {},
   "outputs": [
    {
     "data": {
      "text/plain": [
       "{'name': 'satish', 'age': 65, 'gender': 'm'}"
      ]
     },
     "execution_count": 120,
     "metadata": {},
     "output_type": "execute_result"
    }
   ],
   "source": [
    "empl"
   ]
  },
  {
   "cell_type": "code",
   "execution_count": 121,
   "id": "6955ae17",
   "metadata": {},
   "outputs": [
    {
     "data": {
      "text/plain": [
       "'satish'"
      ]
     },
     "execution_count": 121,
     "metadata": {},
     "output_type": "execute_result"
    }
   ],
   "source": [
    "empl[\"name\"]"
   ]
  },
  {
   "cell_type": "code",
   "execution_count": 122,
   "id": "4c545b70",
   "metadata": {},
   "outputs": [
    {
     "data": {
      "text/plain": [
       "65"
      ]
     },
     "execution_count": 122,
     "metadata": {},
     "output_type": "execute_result"
    }
   ],
   "source": [
    "empl[\"age\"]"
   ]
  },
  {
   "cell_type": "code",
   "execution_count": 125,
   "id": "346a5f4b",
   "metadata": {},
   "outputs": [
    {
     "data": {
      "text/plain": [
       "'m'"
      ]
     },
     "execution_count": 125,
     "metadata": {},
     "output_type": "execute_result"
    }
   ],
   "source": [
    "empl[\"gender\"]"
   ]
  },
  {
   "cell_type": "code",
   "execution_count": null,
   "id": "dc8d45fa",
   "metadata": {},
   "outputs": [],
   "source": [
    "empl"
   ]
  },
  {
   "cell_type": "markdown",
   "id": "d389eafd",
   "metadata": {},
   "source": [
    "# #Types of loops"
   ]
  },
  {
   "cell_type": "markdown",
   "id": "afaf8501",
   "metadata": {},
   "source": [
    "count = 0\n",
    "while ( count < 9):\n",
    "    print('the count is :', count)\n",
    "    count= count + 1\n",
    "    print (\"good bye!\")"
   ]
  },
  {
   "cell_type": "code",
   "execution_count": 27,
   "id": "534ef400",
   "metadata": {},
   "outputs": [
    {
     "name": "stdout",
     "output_type": "stream",
     "text": [
      "the count is : 30\n",
      "aditya\n",
      "the count is : 60\n",
      "aditya\n",
      "the count is : 90\n",
      "aditya\n"
     ]
    }
   ],
   "source": [
    "count =30\n",
    "while ( count < 100):\n",
    "    print('the count is :', count)\n",
    "    count= count + 30\n",
    "    print (\"aditya\")"
   ]
  },
  {
   "cell_type": "markdown",
   "id": "f1e57372",
   "metadata": {},
   "source": [
    "## Types loops\n"
   ]
  },
  {
   "cell_type": "code",
   "execution_count": 29,
   "id": "f1aae99e",
   "metadata": {},
   "outputs": [
    {
     "name": "stdout",
     "output_type": "stream",
     "text": [
      "0 is less than 5\n",
      "1 is less than 5\n",
      "2 is less than 5\n",
      "3 is less than 5\n",
      "4 is less than 5\n",
      "5 is not less than 5\n"
     ]
    }
   ],
   "source": [
    "count = 0\n",
    "while count < 5:\n",
    "    print(count, \"is less than 5\")\n",
    "    count = count + 1\n",
    "else:\n",
    "    print(count,\"is not less than 5\")"
   ]
  },
  {
   "cell_type": "code",
   "execution_count": 34,
   "id": "f073db1c",
   "metadata": {},
   "outputs": [
    {
     "name": "stdout",
     "output_type": "stream",
     "text": [
      "0 is less than 30\n",
      "3 is less than 30\n",
      "6 is less than 30\n",
      "9 is less than 30\n",
      "12 is less than 30\n",
      "15 is less than 30\n",
      "18 is less than 30\n",
      "21 is less than 30\n",
      "24 is less than 30\n",
      "27 is less than 30\n",
      "30 is not less than 30\n"
     ]
    }
   ],
   "source": [
    "count = 0\n",
    "while count < 30:\n",
    "    print(count, \"is less than 30\")\n",
    "    count = count + 3\n",
    "else:\n",
    "    print(count,\"is not less than 30\")"
   ]
  },
  {
   "cell_type": "markdown",
   "id": "d42a5c6b",
   "metadata": {},
   "source": [
    "# # For Loops\n"
   ]
  },
  {
   "cell_type": "code",
   "execution_count": 35,
   "id": "924e20ee",
   "metadata": {},
   "outputs": [
    {
     "name": "stdout",
     "output_type": "stream",
     "text": [
      "current letter : p\n",
      "current letter : y\n",
      "current letter : t\n",
      "current letter : h\n",
      "current letter : o\n",
      "current letter : n\n"
     ]
    }
   ],
   "source": [
    "for letter in 'python':    \n",
    "    print ('current letter :', letter)"
   ]
  },
  {
   "cell_type": "code",
   "execution_count": 37,
   "id": "942b76dd",
   "metadata": {},
   "outputs": [
    {
     "name": "stdout",
     "output_type": "stream",
     "text": [
      "current name : adi\n",
      "current name : aniket\n",
      "current name : satish\n"
     ]
    }
   ],
   "source": [
    "names = ['adi', 'aniket','satish']\n",
    "for name in names:\n",
    "     print ('current name :', name)"
   ]
  },
  {
   "cell_type": "code",
   "execution_count": 45,
   "id": "25ad1754",
   "metadata": {},
   "outputs": [
    {
     "name": "stdout",
     "output_type": "stream",
     "text": [
      "0\n",
      "1\n",
      "2\n",
      "3\n",
      "4\n",
      "5\n",
      "6\n",
      "7\n",
      "8\n",
      "9\n"
     ]
    }
   ],
   "source": [
    "for adi in range(10):\n",
    "    print(adi)"
   ]
  },
  {
   "cell_type": "code",
   "execution_count": 51,
   "id": "85776a43",
   "metadata": {},
   "outputs": [
    {
     "name": "stdout",
     "output_type": "stream",
     "text": [
      "10 equals 2 * 5\n",
      "12 equals 2 * 6\n",
      "14 equals 2 * 7\n",
      "16 equals 2 * 8\n",
      "18 equals 2 * 9\n"
     ]
    }
   ],
   "source": [
    "for num in range(10,20):\n",
    "    for i in range(2,num):\n",
    "        if num%i == 0:\n",
    "            j=num/i\n",
    "            print('%d equals %d * %d' % (num,i,j))\n",
    "        break\n",
    "    else:\n",
    "        print(num, 'is a prime number')\n",
    "        break"
   ]
  },
  {
   "cell_type": "code",
   "execution_count": 64,
   "id": "ef1dbc04",
   "metadata": {},
   "outputs": [
    {
     "name": "stdout",
     "output_type": "stream",
     "text": [
      "10 equals 3 * 3\n",
      "13 equals 3 * 4\n",
      "16 equals 3 * 5\n",
      "19 equals 3 * 6\n"
     ]
    }
   ],
   "source": [
    "for num in range(10,20):\n",
    "    for i in range(3,num):\n",
    "        if num%i == 1:\n",
    "            j=num/i\n",
    "            print('%d equals %d * %d' % (num,i,j))\n",
    "        break\n",
    "    else:\n",
    "        print(num, 'is a prime number')\n",
    "        break"
   ]
  },
  {
   "cell_type": "code",
   "execution_count": null,
   "id": "314a5352",
   "metadata": {},
   "outputs": [],
   "source": [
    "for num in range "
   ]
  },
  {
   "cell_type": "code",
   "execution_count": 65,
   "id": "a1a8af45",
   "metadata": {},
   "outputs": [
    {
     "name": "stdout",
     "output_type": "stream",
     "text": [
      "10 equals 2 * 5\n",
      "11 is a prime number\n",
      "12 equals 2 * 6\n",
      "13 is a prime number\n",
      "14 equals 2 * 7\n",
      "15 is a prime number\n",
      "16 equals 2 * 8\n",
      "17 is a prime number\n",
      "18 equals 2 * 9\n",
      "19 is a prime number\n"
     ]
    }
   ],
   "source": [
    "for num in range(10,20):\n",
    "    for i in range(2,num):\n",
    "        if num%i == 0:\n",
    "            j=num/i\n",
    "            print('%d equals %d * %d' % (num,i,j))\n",
    "            break\n",
    "        else:\n",
    "            print(num, 'is a prime number')\n",
    "            break"
   ]
  },
  {
   "cell_type": "code",
   "execution_count": 80,
   "id": "ad204907",
   "metadata": {},
   "outputs": [
    {
     "data": {
      "text/plain": [
       "3.141592653589793"
      ]
     },
     "execution_count": 80,
     "metadata": {},
     "output_type": "execute_result"
    }
   ],
   "source": [
    "from math import pi\n",
    "pi"
   ]
  },
  {
   "cell_type": "code",
   "execution_count": 81,
   "id": "fed98c93",
   "metadata": {},
   "outputs": [
    {
     "data": {
      "text/plain": [
       "3.141592653589793"
      ]
     },
     "execution_count": 81,
     "metadata": {},
     "output_type": "execute_result"
    }
   ],
   "source": [
    "pi"
   ]
  },
  {
   "cell_type": "code",
   "execution_count": 82,
   "id": "42789f24",
   "metadata": {},
   "outputs": [
    {
     "data": {
      "text/plain": [
       "3.141592653589793"
      ]
     },
     "execution_count": 82,
     "metadata": {},
     "output_type": "execute_result"
    }
   ],
   "source": [
    "pi"
   ]
  },
  {
   "cell_type": "code",
   "execution_count": 83,
   "id": "9863678e",
   "metadata": {},
   "outputs": [
    {
     "data": {
      "text/plain": [
       "31.41592653589793"
      ]
     },
     "execution_count": 83,
     "metadata": {},
     "output_type": "execute_result"
    }
   ],
   "source": [
    "pi*r"
   ]
  },
  {
   "cell_type": "code",
   "execution_count": 87,
   "id": "fb504e03",
   "metadata": {},
   "outputs": [
    {
     "data": {
      "text/plain": [
       "314.1592653589793"
      ]
     },
     "execution_count": 87,
     "metadata": {},
     "output_type": "execute_result"
    }
   ],
   "source": [
    "r = 10\n",
    "a = pi*r*r\n",
    "a"
   ]
  },
  {
   "cell_type": "markdown",
   "id": "650dbe1b",
   "metadata": {},
   "source": [
    "# # conditional statement"
   ]
  },
  {
   "cell_type": "code",
   "execution_count": 100,
   "id": "5c6c0008",
   "metadata": {},
   "outputs": [
    {
     "name": "stdout",
     "output_type": "stream",
     "text": [
      "0 is zero\n"
     ]
    }
   ],
   "source": [
    "#if statement\n",
    "\n",
    "num =0\n",
    "if num>=0:\n",
    "    if num == 0:\n",
    "        print(num, 'is zero')\n",
    "    else:\n",
    "        print(num, 'is a positive number')\n",
    "else:\n",
    "    print(num, ' is a negetive number')"
   ]
  },
  {
   "cell_type": "markdown",
   "id": "ec06e54a",
   "metadata": {},
   "source": [
    "# # calculator"
   ]
  },
  {
   "cell_type": "code",
   "execution_count": 115,
   "id": "1fe030bf",
   "metadata": {},
   "outputs": [
    {
     "name": "stdout",
     "output_type": "stream",
     "text": [
      "select operation\n",
      "1. add\n",
      "2. subtract\n",
      "3. multiply\n",
      "4. divide\n",
      "Enter choice (1/2/3/4):1\n",
      "enter the first number: 2\n",
      "enter the second number: 3\n",
      "2.0 + 3 5.0\n"
     ]
    }
   ],
   "source": [
    "#create functoin for each operation\n",
    "\n",
    "#this functoin add two number \n",
    "\n",
    "def add(x,y):\n",
    "    return x+y\n",
    "\n",
    "#this functoin sub two number \n",
    "\n",
    "def subtract(x,y):\n",
    "    return x-y\n",
    "\n",
    "#this functoin multiply two number \n",
    "\n",
    "def multiply(x,y):\n",
    "    return x*y\n",
    "\n",
    "\n",
    "#this functoin divide two number \n",
    "\n",
    "def divide(x,y):\n",
    "    return x/y \n",
    "\n",
    "print(\"select operation\")\n",
    "print(\"1. add\")\n",
    "print(\"2. subtract\")\n",
    "print(\"3. multiply\")\n",
    "print(\"4. divide\")\n",
    "\n",
    "choice = input(\"Enter choice (1/2/3/4):\")\n",
    "\n",
    "num1 = float(input(\"enter the first number: \"))\n",
    "num2 = int(input(\"enter the second number: \"))\n",
    "\n",
    "if choice == '1':\n",
    "    print(num1, '+',num2, add(num1,num2))\n",
    "elif choice == '2':\n",
    "    print(num1, '-',num2, sub(num1,num2))\n",
    "elif choice == '3':\n",
    "    print(num1, '*',num2, multiply(num1,num2))\n",
    "elif choice == '4':\n",
    "    print(num1, '/',num2, divide(num1,num2))\n",
    "else:\n",
    "    print(\"invalide input\")"
   ]
  },
  {
   "cell_type": "code",
   "execution_count": null,
   "id": "7ec11597",
   "metadata": {},
   "outputs": [
    {
     "name": "stdout",
     "output_type": "stream",
     "text": [
      "select operation\n",
      "1. add\n",
      "2. subtract\n",
      "3. multiply\n",
      "4. divide\n"
     ]
    }
   ],
   "source": [
    "#create functoin for each operation\n",
    "\n",
    "#this functoin add two number \n",
    "\n",
    "def add(x,y):\n",
    "    return x+y\n",
    "\n",
    "#this functoin sub two number \n",
    "\n",
    "def subtract(x,y):\n",
    "    return x-y\n",
    "\n",
    "#this functoin multiply two number \n",
    "\n",
    "def multiply(x,y):\n",
    "    return x*y\n",
    "\n",
    "\n",
    "#this functoin divide two number \n",
    "\n",
    "def divide(x,y):\n",
    "    return x/y \n",
    "\n",
    "print(\"select operation\")\n",
    "print(\"1. add\")\n",
    "print(\"2. subtract\")\n",
    "print(\"3. multiply\")\n",
    "print(\"4. divide\")\n",
    "\n",
    "choice = input(\"Enter choice (1/2/3/4):\")\n",
    "\n",
    "num1 = float(input(\"enter the first number: \"))\n",
    "num2 = int(input(\"enter the second number: \"))\n",
    "\n",
    "if choice == '1':\n",
    "    print(num1, '+',num2, add(num1,num2))\n",
    "elif choice == '2':\n",
    "    print(num1, '-',num2, sub(num1,num2))\n",
    "elif choice == '3':\n",
    "    print(num1, '*',num2, multiply(num1,num2))\n",
    "elif choice == '4':\n",
    "    print(num1, '/',num2, divide(num1,num2))\n",
    "else:\n",
    "    print(\"invalide input\")"
   ]
  },
  {
   "cell_type": "code",
   "execution_count": null,
   "id": "b50cb111",
   "metadata": {},
   "outputs": [],
   "source": []
  },
  {
   "cell_type": "code",
   "execution_count": null,
   "id": "3f7fac6f",
   "metadata": {},
   "outputs": [],
   "source": []
  },
  {
   "cell_type": "code",
   "execution_count": null,
   "id": "9c27ca30",
   "metadata": {},
   "outputs": [],
   "source": []
  },
  {
   "cell_type": "code",
   "execution_count": null,
   "id": "3d91d4ed",
   "metadata": {},
   "outputs": [],
   "source": []
  },
  {
   "cell_type": "code",
   "execution_count": null,
   "id": "490fc527",
   "metadata": {},
   "outputs": [],
   "source": []
  },
  {
   "cell_type": "code",
   "execution_count": null,
   "id": "1f373132",
   "metadata": {},
   "outputs": [],
   "source": []
  },
  {
   "cell_type": "code",
   "execution_count": null,
   "id": "fd7362b4",
   "metadata": {},
   "outputs": [],
   "source": [
    "\n"
   ]
  },
  {
   "cell_type": "code",
   "execution_count": null,
   "id": "30ffffd9",
   "metadata": {},
   "outputs": [],
   "source": [
    "\n",
    "\n",
    "\n",
    "\n",
    "\n"
   ]
  },
  {
   "cell_type": "code",
   "execution_count": null,
   "id": "9e1075fe",
   "metadata": {},
   "outputs": [],
   "source": []
  },
  {
   "cell_type": "code",
   "execution_count": null,
   "id": "55112a40",
   "metadata": {},
   "outputs": [],
   "source": []
  },
  {
   "cell_type": "code",
   "execution_count": null,
   "id": "bdc93c7e",
   "metadata": {},
   "outputs": [],
   "source": []
  },
  {
   "cell_type": "code",
   "execution_count": null,
   "id": "61d78bdc",
   "metadata": {},
   "outputs": [],
   "source": [
    "\n"
   ]
  },
  {
   "cell_type": "code",
   "execution_count": null,
   "id": "37ae2ca1",
   "metadata": {},
   "outputs": [],
   "source": [
    "\n"
   ]
  }
 ],
 "metadata": {
  "kernelspec": {
   "display_name": "Python 3 (ipykernel)",
   "language": "python",
   "name": "python3"
  },
  "language_info": {
   "codemirror_mode": {
    "name": "ipython",
    "version": 3
   },
   "file_extension": ".py",
   "mimetype": "text/x-python",
   "name": "python",
   "nbconvert_exporter": "python",
   "pygments_lexer": "ipython3",
   "version": "3.9.12"
  }
 },
 "nbformat": 4,
 "nbformat_minor": 5
}
